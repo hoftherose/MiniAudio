{
 "cells": [
  {
   "cell_type": "code",
   "execution_count": null,
   "metadata": {},
   "outputs": [],
   "source": [
    "#default_exp transforms"
   ]
  },
  {
   "cell_type": "markdown",
   "metadata": {},
   "source": [
    "# Audio Transforms\n",
    "> Data transformations made specifically for audio."
   ]
  },
  {
   "cell_type": "code",
   "execution_count": null,
   "metadata": {},
   "outputs": [],
   "source": [
    "#export\n",
    "from fastai2.basics import *\n",
    "import librosa\n",
    "import torchaudio"
   ]
  },
  {
   "cell_type": "code",
   "execution_count": null,
   "metadata": {},
   "outputs": [],
   "source": [
    "from IPython.display import Audio\n",
    "import matplotlib.pyplot as plt\n",
    "import seaborn as sns"
   ]
  },
  {
   "cell_type": "markdown",
   "metadata": {},
   "source": [
    "# Normalize Audio"
   ]
  },
  {
   "cell_type": "code",
   "execution_count": null,
   "metadata": {},
   "outputs": [],
   "source": [
    "#export\n",
    "class NormalizeAudio(Transform):\n",
    "    def encodes(self, sig:ndarray):\n",
    "        return librosa.util.normalize(sig)"
   ]
  },
  {
   "cell_type": "markdown",
   "metadata": {},
   "source": [
    "# MuLawEncoding"
   ]
  },
  {
   "cell_type": "code",
   "execution_count": null,
   "metadata": {},
   "outputs": [],
   "source": [
    "#export\n",
    "class MuLawEncoding(Transform):\n",
    "    order = 11\n",
    "    def __init__(self, quantization_channels:int=256):\n",
    "        self.MuLawEnc = torchaudio.transforms.MuLawEncoding(quantization_channels)\n",
    "        self.MuLawDec = torchaudio.transforms.MuLawDecoding(quantization_channels)\n",
    "    def encodes(self, sig:Tensor):\n",
    "        print(\"enc\")\n",
    "        return self.MuLawEnc(sig)\n",
    "    def decodes(self, sig:Tensor):\n",
    "        print(\"dec\")\n",
    "        return self.MuLawDec(sig)"
   ]
  },
  {
   "cell_type": "code",
   "execution_count": null,
   "metadata": {},
   "outputs": [],
   "source": []
  }
 ],
 "metadata": {
  "kernelspec": {
   "display_name": "Python 3",
   "language": "python",
   "name": "python3"
  }
 },
 "nbformat": 4,
 "nbformat_minor": 4
}
