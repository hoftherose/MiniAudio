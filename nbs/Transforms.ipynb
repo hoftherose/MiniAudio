{
 "cells": [
  {
   "cell_type": "code",
   "execution_count": null,
   "metadata": {},
   "outputs": [],
   "source": [
    "#default_exp transforms"
   ]
  },
  {
   "cell_type": "markdown",
   "metadata": {},
   "source": [
    "# Audio Transforms\n",
    "> Data transformations made specifically for audio."
   ]
  },
  {
   "cell_type": "code",
   "execution_count": null,
   "metadata": {},
   "outputs": [],
   "source": [
    "#export\n",
    "from fastai2.basics import *\n",
    "import librosa\n",
    "import torchaudio"
   ]
  },
  {
   "cell_type": "code",
   "execution_count": null,
   "metadata": {},
   "outputs": [],
   "source": [
    "from IPython.display import Audio\n",
    "import matplotlib.pyplot as plt\n",
    "import seaborn as sns"
   ]
  },
  {
   "cell_type": "markdown",
   "metadata": {},
   "source": [
    "# Normalize Audio"
   ]
  },
  {
   "cell_type": "code",
   "execution_count": null,
   "metadata": {},
   "outputs": [],
   "source": [
    "#export\n",
    "class NormalizeAudio(Transform):\n",
    "    def encodes(self, sig:ndarray):\n",
    "        return librosa.util.normalize(sig)"
   ]
  },
  {
   "cell_type": "markdown",
   "metadata": {},
   "source": [
    "# MuLawEncoding"
   ]
  },
  {
   "cell_type": "code",
   "execution_count": null,
   "metadata": {},
   "outputs": [],
   "source": [
    "#export\n",
    "class MuLawEncoding(Transform):\n",
    "    order = 11\n",
    "    def __init__(self, precision:int=256):\n",
    "        self.OneHot = partial(torch.nn.functional.one_hot, num_classes=precision)\n",
    "        self.MuLawEnc = torchaudio.transforms.MuLawEncoding(precision)\n",
    "        self.MuLawDec = torchaudio.transforms.MuLawDecoding(precision)\n",
    "    def encodes(self, sig:Tensor):\n",
    "        mulaw = self.MuLawEnc(sig)\n",
    "        return self.OneHot(mulaw)\n",
    "    def decodes(self, enc:Tensor):\n",
    "        mulaw = torch.argmax(enc, dim=-2)\n",
    "        return self.MuLawDec(mulaw)"
   ]
  },
  {
   "cell_type": "markdown",
   "metadata": {},
   "source": [
    "# Frequency Order"
   ]
  },
  {
   "cell_type": "code",
   "execution_count": null,
   "metadata": {},
   "outputs": [],
   "source": [
    "#export\n",
    "def get_pitch(S):\n",
    "    return librosa.estimate_tuning(S=S[0], sr=44100)\n",
    "\n",
    "def frequency_order(specs, attempt=0):\n",
    "    pitch = L(specs).map(get_pitch)\n",
    "    order = pitch.zipwith(specs).sorted(lambda x: x[0])\n",
    "    return order.itemgot(1)"
   ]
  },
  {
   "cell_type": "markdown",
   "metadata": {},
   "source": [
    "# 2D Stft"
   ]
  },
  {
   "cell_type": "code",
   "execution_count": null,
   "metadata": {},
   "outputs": [],
   "source": [
    "#export\n",
    "class Stft2d(ItemTransform):\n",
    "    def encodes(self, audio):\n",
    "        spec = librosa.stft(audio)\n",
    "        spec = np.pad(spec[:1024,:], ((0,0),(0,8)))\n",
    "        spec = np.log2(1+abs(spec))\n",
    "        return np.expand_dims(spec, axis=0)\n",
    "    def encodes(self, audios:list):\n",
    "        specs = []\n",
    "        for audio in audios: specs.append(self.encodes(audio))\n",
    "        specs = frequency_order(specs)\n",
    "        return np.concatenate(specs, axis=0)"
   ]
  },
  {
   "cell_type": "markdown",
   "metadata": {},
   "source": [
    "# Export"
   ]
  },
  {
   "cell_type": "code",
   "execution_count": null,
   "metadata": {},
   "outputs": [
    {
     "name": "stdout",
     "output_type": "stream",
     "text": [
      "Converted Transforms.ipynb.\n"
     ]
    }
   ],
   "source": [
    "#hide\n",
    "from nbdev.export import notebook2script\n",
    "notebook2script(fname=\"Transforms.ipynb\")"
   ]
  }
 ],
 "metadata": {
  "kernelspec": {
   "display_name": "Python 3",
   "language": "python",
   "name": "python3"
  }
 },
 "nbformat": 4,
 "nbformat_minor": 4
}
