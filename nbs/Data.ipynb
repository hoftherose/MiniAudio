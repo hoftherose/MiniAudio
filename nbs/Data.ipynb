{
 "cells": [
  {
   "cell_type": "code",
   "execution_count": null,
   "metadata": {},
   "outputs": [],
   "source": [
    "#default_exp data"
   ]
  },
  {
   "cell_type": "markdown",
   "metadata": {},
   "source": [
    "# Audio Data\n",
    "> Data representation and transformations for tests."
   ]
  },
  {
   "cell_type": "code",
   "execution_count": null,
   "metadata": {},
   "outputs": [],
   "source": [
    "#export\n",
    "from fastai2.basics import *\n",
    "import librosa\n",
    "import librosa.display\n",
    "import IPython\n",
    "import numpy as np"
   ]
  },
  {
   "cell_type": "code",
   "execution_count": null,
   "metadata": {},
   "outputs": [],
   "source": [
    "file = '/home/cerberus/Music/'"
   ]
  },
  {
   "cell_type": "markdown",
   "metadata": {},
   "source": [
    "# Data"
   ]
  },
  {
   "cell_type": "markdown",
   "metadata": {},
   "source": [
    "## Array Types"
   ]
  },
  {
   "cell_type": "code",
   "execution_count": null,
   "metadata": {},
   "outputs": [],
   "source": [
    "#export\n",
    "class ArraySpec(ndarray):\n",
    "    #TODO Inherite from ArrayImage\n",
    "    _show_args = {'cmap':'gist_gray', 'x_axis':'s', 'y_axis':'linear'}\n",
    "    sr = 22050\n",
    "    def __new__(cls, x, *args, **kwargs):\n",
    "        if isinstance(x,tuple): super().__new__(cls, x, *args, **kwargs)\n",
    "        if not isinstance(x,ndarray): x = array(x, np.float64)\n",
    "        return x.view(cls)\n",
    "    \n",
    "    def show(self, ctx=None, figsize=None, **kwargs):\n",
    "        return librosa.display.specshow(abs(self), **{**self._show_args, **kwargs})"
   ]
  },
  {
   "cell_type": "code",
   "execution_count": null,
   "metadata": {},
   "outputs": [],
   "source": [
    "#export\n",
    "class ArraySignal(ndarray):\n",
    "    _show_args = {'x_axis':'s'}\n",
    "    sr = 22050\n",
    "    def __new__(cls, x, *args, **kwargs):\n",
    "        if isinstance(x,tuple): super().__new__(cls, x, *args, **kwargs)\n",
    "        if not isinstance(x,ndarray): x = array(x, np.float64)\n",
    "        return x.view(cls)\n",
    "    \n",
    "    def show(self, ctx=None, figsize=None, **kwargs):\n",
    "        librosa.display.waveplot(self, **{**self._show_args, **kwargs})\n",
    "        return IPython.display.Audio(self, rate=self.sr)"
   ]
  },
  {
   "cell_type": "markdown",
   "metadata": {},
   "source": [
    "## Tensor Types"
   ]
  },
  {
   "cell_type": "code",
   "execution_count": null,
   "metadata": {},
   "outputs": [],
   "source": [
    "#export\n",
    "class TensorSpec(Tensor):\n",
    "    _show_args = ArraySpec._show_args\n",
    "    sr = ArraySpec.sr\n",
    "    def show(self, ctx=None, figsize=None, **kwargs):\n",
    "        data = self.cpu().numpy()\n",
    "        return librosa.display.specshow(abs(data), **{**self._show_args, **kwargs})"
   ]
  },
  {
   "cell_type": "code",
   "execution_count": null,
   "metadata": {},
   "outputs": [],
   "source": [
    "#export\n",
    "class TensorSignal(Tensor):\n",
    "    _show_args = ArraySignal._show_args\n",
    "    sr = ArraySpec.sr\n",
    "    def show(self, sr=None, ctx=None, figsize=None, **kwargs):\n",
    "        data = self.cpu().numpy()\n",
    "        librosa.display.waveplot(abs(data), **{**self._show_args, **kwargs})\n",
    "        return IPython.display.Audio(data, rate=ifnone(sr, self.sr))"
   ]
  },
  {
   "cell_type": "markdown",
   "metadata": {},
   "source": [
    "## Data Transforms"
   ]
  },
  {
   "cell_type": "code",
   "execution_count": null,
   "metadata": {},
   "outputs": [],
   "source": [
    "#export\n",
    "ArraySpec._tensor_cls = TensorSpec\n",
    "ArraySignal._tensor_cls = TensorSignal"
   ]
  },
  {
   "cell_type": "code",
   "execution_count": null,
   "metadata": {},
   "outputs": [],
   "source": [
    "#export\n",
    "@ToTensor\n",
    "def encodes(self, o:ArraySpec): return ArraySpec._tensor_cls(abs(o))\n",
    "\n",
    "@ToTensor\n",
    "def encodes(self, o:ArraySignal): return ArraySignal._tensor_cls(o)"
   ]
  },
  {
   "cell_type": "code",
   "execution_count": null,
   "metadata": {},
   "outputs": [],
   "source": [
    "#export\n",
    "audio_extensions = set(k for k,v in mimetypes.types_map.items() if v.startswith('audio/'))\n",
    "def get_audio_files(path, recurse=True, folders=None):\n",
    "    \"Get image files in `path` recursively, only in `folders`, if specified.\"\n",
    "    return get_files(path, extensions=audio_extensions, recurse=recurse, folders=folders)"
   ]
  },
  {
   "cell_type": "code",
   "execution_count": null,
   "metadata": {},
   "outputs": [],
   "source": [
    "#export\n",
    "class Spectify(Transform):\n",
    "    #TODO Allow parameter changes\n",
    "    def __init__(self, func=librosa.stft, **kwargs):\n",
    "        self.transform = partial(func, **kwargs)\n",
    "    def encodes(self, file:(str, Path)):\n",
    "        with warnings.catch_warnings():\n",
    "            warnings.simplefilter(\"ignore\")\n",
    "            audio, _ = librosa.load(file, ArraySpec.sr)\n",
    "        return ArraySpec(self.transform(audio))\n",
    "    def encodes(self, audio:ndarray):\n",
    "        return ArraySpec(self.transform(audio))"
   ]
  },
  {
   "cell_type": "code",
   "execution_count": null,
   "metadata": {},
   "outputs": [],
   "source": [
    "#export\n",
    "class AudioLoader(Transform):\n",
    "    @delegates(librosa.load)\n",
    "    def __init__(self, **kwargs):\n",
    "        store_attr(self, 'kwargs')\n",
    "    def encodes(self, file:(str, Path)):\n",
    "        with warnings.catch_warnings():\n",
    "            warnings.simplefilter(\"ignore\")\n",
    "            y, _ = librosa.load(file, ArraySignal.sr, **self.kwargs)\n",
    "        return ArraySignal(y)\n",
    "    def encodes(self, audio:ndarray):\n",
    "        return ArraySignal(audio)"
   ]
  },
  {
   "cell_type": "markdown",
   "metadata": {},
   "source": [
    "## Data Blocks"
   ]
  },
  {
   "cell_type": "code",
   "execution_count": null,
   "metadata": {},
   "outputs": [],
   "source": [
    "#export\n",
    "def SpecBlock(spec_func=librosa.stft, **kwargs):\n",
    "    return TransformBlock(type_tfms=Spectify(spec_func, **kwargs))\n",
    "\n",
    "def SignalBlock(**kwargs):\n",
    "    return TransformBlock(type_tfms=AudioLoader(**kwargs))"
   ]
  },
  {
   "cell_type": "markdown",
   "metadata": {},
   "source": [
    "# Transforms"
   ]
  },
  {
   "cell_type": "code",
   "execution_count": null,
   "metadata": {},
   "outputs": [],
   "source": [
    "#export\n",
    "class Clipper(Transform):\n",
    "    def __init__(self, segment_length):\n",
    "        store_attr(self, 'segment_length')\n",
    "    def encodes(self, audio:ArraySignal):\n",
    "        if audio.size >= self.segment_length:\n",
    "            max_audio_start = audio.size - self.segment_length\n",
    "            audio_start = random.randint(0, max_audio_start)\n",
    "            audio = audio[audio_start:audio_start+self.segment_length]\n",
    "        else:\n",
    "            audio = np.pad(audio, (0, self.segment_length - audio.size), 'constant')\n",
    "        return audio"
   ]
  },
  {
   "cell_type": "markdown",
   "metadata": {},
   "source": [
    "# DataBlock Example"
   ]
  },
  {
   "cell_type": "code",
   "execution_count": null,
   "metadata": {},
   "outputs": [],
   "source": [
    "data = DataBlock((SpecBlock(librosa.stft), SignalBlock()),\n",
    "                 get_items=get_audio_files,\n",
    "                 get_x = Pipeline([AudioLoader(), Clipper(110250)]),\n",
    "                 get_y = Pipeline([AudioLoader(), Clipper(110250)]),\n",
    "                 splitter=RandomSplitter())\n",
    "dls = data.dataloaders(file, bs=1)"
   ]
  },
  {
   "cell_type": "code",
   "execution_count": null,
   "metadata": {},
   "outputs": [
    {
     "data": {
      "image/png": "[encoded data removed]",
      "text/plain": [
       "<Figure size 432x288 with 1 Axes>"
      ]
     },
     "metadata": {
      "needs_background": "light"
     },
     "output_type": "display_data"
    }
   ],
   "source": [
    "dls.show_batch()"
   ]
  },
  {
   "cell_type": "markdown",
   "metadata": {},
   "source": [
    "# Export"
   ]
  },
  {
   "cell_type": "code",
   "execution_count": null,
   "metadata": {},
   "outputs": [
    {
     "name": "stdout",
     "output_type": "stream",
     "text": [
      "Converted Data.ipynb.\n"
     ]
    }
   ],
   "source": [
    "#hide\n",
    "from nbdev.export import notebook2script\n",
    "notebook2script(fname=\"Data.ipynb\")"
   ]
  }
 ],
 "metadata": {
  "kernelspec": {
   "display_name": "Python 3",
   "language": "python",
   "name": "python3"
  }
 },
 "nbformat": 4,
 "nbformat_minor": 4
}
